{
  "nbformat": 4,
  "nbformat_minor": 0,
  "metadata": {
    "colab": {
      "provenance": [],
      "gpuType": "T4",
      "authorship_tag": "ABX9TyPjuzcatTkNBwFCGrvzueSQ",
      "include_colab_link": true
    },
    "kernelspec": {
      "name": "python3",
      "display_name": "Python 3"
    },
    "language_info": {
      "name": "python"
    },
    "accelerator": "GPU"
  },
  "cells": [
    {
      "cell_type": "markdown",
      "metadata": {
        "id": "view-in-github",
        "colab_type": "text"
      },
      "source": [
        "<a href=\"https://colab.research.google.com/github/raphamatoss/DeepLearningWithPyTorch/blob/main/IntroductionToTensors.ipynb\" target=\"_parent\"><img src=\"https://colab.research.google.com/assets/colab-badge.svg\" alt=\"Open In Colab\"/></a>"
      ]
    },
    {
      "cell_type": "markdown",
      "source": [
        "**INTRODUCTION TO TENSORS**\n",
        "\n",
        "A tensor is basically a generalization of mathematical values. Everything can be a tensor, a scalar, a vector or a matrix. Any R^n matrix is also a tensor!\n",
        "\n",
        "Pytorch tensor documentation: https://pytorch.org/docs/stable/tensors.html\n",
        "\n",
        "We can create tensors with pytorch as it follows:"
      ],
      "metadata": {
        "id": "nFDSsP1hxJIV"
      }
    },
    {
      "cell_type": "code",
      "execution_count": 5,
      "metadata": {
        "colab": {
          "base_uri": "https://localhost:8080/"
        },
        "id": "t4jdpMvVt015",
        "outputId": "92694e3d-703a-434a-cd50-0833f5bac133"
      },
      "outputs": [
        {
          "output_type": "stream",
          "name": "stdout",
          "text": [
            "Scalar tensor: \n",
            "tensor(7)\n",
            "\n",
            "Vector tensor: \n",
            "tensor([2, 2, 2, 2])\n",
            "\n",
            "Matrix tensor: \n",
            "tensor([[1, 1],\n",
            "        [2, 2],\n",
            "        [3, 3]])\n",
            "\n",
            "Multi-dimensional tensor: \n",
            "tensor([[[1, 1],\n",
            "         [2, 2],\n",
            "         [1, 1],\n",
            "         [2, 2]]])\n",
            "\n",
            "Tensor using a numpy array: \n",
            "tensor([[1, 1, 1],\n",
            "        [2, 2, 2]])\n"
          ]
        }
      ],
      "source": [
        "import torch\n",
        "\n",
        "# all of the four variables above are examples of tensors!\n",
        "scalar = torch.tensor(7);\n",
        "vector = torch.tensor([2, 2, 2, 2])\n",
        "matrix = torch.tensor([[1, 1], [2,2],[3, 3]])\n",
        "tensor = torch.tensor([[[1,1], [2, 2], [1, 1], [2, 2]]])\n",
        "\n",
        "print(\"Scalar tensor: \")\n",
        "print(scalar)\n",
        "print(\"\\nVector tensor: \")\n",
        "print(vector)\n",
        "print(\"\\nMatrix tensor: \")\n",
        "print(matrix)\n",
        "print(\"\\nMulti-dimensional tensor: \")\n",
        "print(tensor)\n",
        "\n",
        "# a torch tensor may also be initialized with a numpy array\n",
        "import numpy as np\n",
        "matrix_2 = torch.tensor(np.array([[1, 1 ,1], [2, 2, 2]]))\n",
        "\n",
        "print(\"\\nTensor using a numpy array: \")\n",
        "print(matrix_2)"
      ]
    },
    {
      "cell_type": "markdown",
      "source": [
        "**Dimension/Rank**"
      ],
      "metadata": {
        "id": "LwV8LuliD6eB"
      }
    },
    {
      "cell_type": "markdown",
      "source": [
        "Every tensor has a **dimension**(also called **rank**), which stands for the number of indexes it is required to acess its information.\n",
        "\n",
        "A **scalar has dimension 0**, since it isn't required any indexes to describe its value.\n",
        "\n",
        "A **vector has dimension 1**, since it is required 1 index to describe its value\n",
        "\n",
        "A **matrix has dimension 2**, since it is required 2 indexes to describe its values.\n",
        "\n",
        "And so on. On Pytorch we can get the dimension of a tensor using the `.ndim`."
      ],
      "metadata": {
        "id": "aR8Cx2na3LU4"
      }
    },
    {
      "cell_type": "code",
      "source": [
        "scalar.ndim"
      ],
      "metadata": {
        "colab": {
          "base_uri": "https://localhost:8080/"
        },
        "id": "Q_clLs0b4M5n",
        "outputId": "08f03084-8cce-47de-aaaa-85fcb83a140d"
      },
      "execution_count": 13,
      "outputs": [
        {
          "output_type": "execute_result",
          "data": {
            "text/plain": [
              "0"
            ]
          },
          "metadata": {},
          "execution_count": 13
        }
      ]
    },
    {
      "cell_type": "code",
      "source": [
        "vector.ndim"
      ],
      "metadata": {
        "colab": {
          "base_uri": "https://localhost:8080/"
        },
        "id": "CGtQr-h54XJf",
        "outputId": "d09b5e72-7ebf-47b8-a4a0-878b9aa6e769"
      },
      "execution_count": 12,
      "outputs": [
        {
          "output_type": "execute_result",
          "data": {
            "text/plain": [
              "1"
            ]
          },
          "metadata": {},
          "execution_count": 12
        }
      ]
    },
    {
      "cell_type": "code",
      "source": [
        "tensor.ndim"
      ],
      "metadata": {
        "colab": {
          "base_uri": "https://localhost:8080/"
        },
        "id": "o-EZteUm4aFv",
        "outputId": "2faed6fa-e537-45d3-e71a-29c4b0ce8b0c"
      },
      "execution_count": 14,
      "outputs": [
        {
          "output_type": "execute_result",
          "data": {
            "text/plain": [
              "3"
            ]
          },
          "metadata": {},
          "execution_count": 14
        }
      ]
    },
    {
      "cell_type": "markdown",
      "source": [
        "**Shape/Size**"
      ],
      "metadata": {
        "id": "-vjcTeNOECOB"
      }
    },
    {
      "cell_type": "markdown",
      "source": [
        "Tensors also have a **shape**(also called size). The shape of a tensor is related to its dimension, it represents the length of each dimension"
      ],
      "metadata": {
        "id": "UHwXgKVh-xse"
      }
    },
    {
      "cell_type": "code",
      "source": [
        "tensor = torch.tensor([[[1, 1],\n",
        "                        [2, 2],\n",
        "                        [1, 1],\n",
        "                        [2, 2]]])\n",
        "tensor.shape"
      ],
      "metadata": {
        "colab": {
          "base_uri": "https://localhost:8080/"
        },
        "id": "0jOyIR6d_d8y",
        "outputId": "8ebf4967-d81f-4d09-f4e6-15f22d06e946"
      },
      "execution_count": 15,
      "outputs": [
        {
          "output_type": "execute_result",
          "data": {
            "text/plain": [
              "torch.Size([1, 4, 2])"
            ]
          },
          "metadata": {},
          "execution_count": 15
        }
      ]
    },
    {
      "cell_type": "markdown",
      "source": [
        "**Data type**"
      ],
      "metadata": {
        "id": "RW4ab_DsEGFw"
      }
    },
    {
      "cell_type": "markdown",
      "source": [
        "If we want to specify the data type of a tensor, we can define `torch.dtype` in the `torch.tensor()` constructor:"
      ],
      "metadata": {
        "id": "xl80LnK3t6Dx"
      }
    },
    {
      "cell_type": "code",
      "source": [
        "integer_tensor = torch.tensor([1, 1, 1], dtype=torch.int16)\n",
        "print(integer_tensor)\n",
        "\n",
        "# If we want to get the type of a tensor we can do as it follows:\n",
        "integer_tensor.dtype"
      ],
      "metadata": {
        "colab": {
          "base_uri": "https://localhost:8080/"
        },
        "id": "p4Up9kuP2DkY",
        "outputId": "2530eb0d-489c-4cb2-f246-1875cc9ef5e8"
      },
      "execution_count": 26,
      "outputs": [
        {
          "output_type": "stream",
          "name": "stdout",
          "text": [
            "tensor([1, 1, 1], dtype=torch.int16)\n"
          ]
        },
        {
          "output_type": "execute_result",
          "data": {
            "text/plain": [
              "torch.int16"
            ]
          },
          "metadata": {},
          "execution_count": 26
        }
      ]
    },
    {
      "cell_type": "markdown",
      "source": [
        "Tensor datatypes is one of the 3 big erros we may run into with PyTorch and DP:\n",
        "1. Tensors not in the right datatype\n",
        "2. Tensors not in the right shape\n",
        "3. Tensors not on the right device"
      ],
      "metadata": {
        "id": "GL7dCHPQP0D5"
      }
    },
    {
      "cell_type": "code",
      "source": [
        "# Float 32 tensor is the standart tensor datatype when creating\n",
        "# tensors with PyTorch\n",
        "float_32 = torch.zeros(dtype=None, # what datatype the tensor is\n",
        "                       device=None, # what device the tensor is on(Nvidia cuda, Tpu)\n",
        "                       requires_grad=False) # wheter or not to track gradients with this tensors operations"
      ],
      "metadata": {
        "id": "FR7EVnpAQKWh"
      },
      "execution_count": null,
      "outputs": []
    },
    {
      "cell_type": "markdown",
      "source": [
        "**Random Tensors**\n",
        "\n",
        "Random tensors are important because many neural networks start with random weights and adjust them to better values along the training step.\n",
        "\n",
        "We can create random tensors using `torch.rand().`"
      ],
      "metadata": {
        "id": "vXoq67OtAs8H"
      }
    },
    {
      "cell_type": "code",
      "source": [
        "# We can create a tensor of a desired shape by specifing it\n",
        "# in the constructor\n",
        "random_tensor = torch.rand(2, 3, 4)\n",
        "random_tensor"
      ],
      "metadata": {
        "colab": {
          "base_uri": "https://localhost:8080/"
        },
        "id": "fWqBkS4TBlul",
        "outputId": "b386fbe3-7ae3-4315-9855-3cdcb0ca499b"
      },
      "execution_count": 21,
      "outputs": [
        {
          "output_type": "execute_result",
          "data": {
            "text/plain": [
              "tensor([[[0.6563, 0.2599, 0.3710, 0.6606],\n",
              "         [0.1729, 0.3650, 0.9097, 0.0899],\n",
              "         [0.2889, 0.4661, 0.3250, 0.9224]],\n",
              "\n",
              "        [[0.5874, 0.8911, 0.4843, 0.8245],\n",
              "         [0.1069, 0.1288, 0.8897, 0.1500],\n",
              "         [0.3921, 0.5909, 0.7304, 0.3086]]])"
            ]
          },
          "metadata": {},
          "execution_count": 21
        }
      ]
    },
    {
      "cell_type": "code",
      "source": [
        "random_tensor.ndim"
      ],
      "metadata": {
        "colab": {
          "base_uri": "https://localhost:8080/"
        },
        "id": "Dlm1uvdWCLLe",
        "outputId": "b36dc512-7a18-44ac-dc87-829bada12871"
      },
      "execution_count": 20,
      "outputs": [
        {
          "output_type": "execute_result",
          "data": {
            "text/plain": [
              "3"
            ]
          },
          "metadata": {},
          "execution_count": 20
        }
      ]
    },
    {
      "cell_type": "markdown",
      "source": [
        "**Zeros and ones**"
      ],
      "metadata": {
        "id": "lds1tENLDOlC"
      }
    },
    {
      "cell_type": "code",
      "source": [
        "# We can also create tensors filled with zeros or ones\n",
        "zeros = torch.zeros(3, 3)\n",
        "zeros"
      ],
      "metadata": {
        "colab": {
          "base_uri": "https://localhost:8080/"
        },
        "id": "pkO9QOBKDTlv",
        "outputId": "b3f91843-a0ca-489e-f2cf-dfd82e209d7a"
      },
      "execution_count": 22,
      "outputs": [
        {
          "output_type": "execute_result",
          "data": {
            "text/plain": [
              "tensor([[0., 0., 0.],\n",
              "        [0., 0., 0.],\n",
              "        [0., 0., 0.]])"
            ]
          },
          "metadata": {},
          "execution_count": 22
        }
      ]
    },
    {
      "cell_type": "code",
      "source": [
        "ones = torch.ones(3, 3)\n",
        "ones"
      ],
      "metadata": {
        "colab": {
          "base_uri": "https://localhost:8080/"
        },
        "id": "RKCoNzP9DdCv",
        "outputId": "1df385e7-ec89-43d7-f9dc-e649e1801ea2"
      },
      "execution_count": 23,
      "outputs": [
        {
          "output_type": "execute_result",
          "data": {
            "text/plain": [
              "tensor([[1., 1., 1.],\n",
              "        [1., 1., 1.],\n",
              "        [1., 1., 1.]])"
            ]
          },
          "metadata": {},
          "execution_count": 23
        }
      ]
    },
    {
      "cell_type": "markdown",
      "source": [
        "**Range of tensors**\n",
        "\n",
        "Using `torch.arange(start, end, step)` we can create a 1D tensor with values from a specified interval."
      ],
      "metadata": {
        "id": "kTaQAwrsHux-"
      }
    },
    {
      "cell_type": "code",
      "source": [
        "# we can define only the start and end parameters\n",
        "one_to_ten = torch.arange(1, 11)\n",
        "one_to_ten"
      ],
      "metadata": {
        "colab": {
          "base_uri": "https://localhost:8080/"
        },
        "id": "lS4jT6dzIkJ6",
        "outputId": "66cd941a-c451-4b00-ed5f-f512763ba6c9"
      },
      "execution_count": 29,
      "outputs": [
        {
          "output_type": "execute_result",
          "data": {
            "text/plain": [
              "tensor([ 1,  2,  3,  4,  5,  6,  7,  8,  9, 10])"
            ]
          },
          "metadata": {},
          "execution_count": 29
        }
      ]
    },
    {
      "cell_type": "code",
      "source": [
        "# besides the start and end parameters, we can also define the step\n",
        "one_to_hundred = torch.arange(0, 101, 5)\n",
        "one_to_hundred"
      ],
      "metadata": {
        "colab": {
          "base_uri": "https://localhost:8080/"
        },
        "id": "vsnszbcfIxhf",
        "outputId": "880a8227-f634-49a1-bd96-bd75b46b756c"
      },
      "execution_count": 31,
      "outputs": [
        {
          "output_type": "execute_result",
          "data": {
            "text/plain": [
              "tensor([  0,   5,  10,  15,  20,  25,  30,  35,  40,  45,  50,  55,  60,  65,\n",
              "         70,  75,  80,  85,  90,  95, 100])"
            ]
          },
          "metadata": {},
          "execution_count": 31
        }
      ]
    },
    {
      "cell_type": "markdown",
      "source": [
        "**Tensors Like**\n",
        "\n",
        "`torch.zeros_like(input)`\n",
        "`torch.ones_like(input)`\n",
        "`torch.rand_like(input)`\n",
        "\n",
        "All of these pytorch methods return a tensor of the same shape as the input tensor."
      ],
      "metadata": {
        "id": "Lui1h_lPJsTK"
      }
    },
    {
      "cell_type": "code",
      "source": [
        "tensor = torch.rand(1, 2, 5)\n",
        "tensor"
      ],
      "metadata": {
        "colab": {
          "base_uri": "https://localhost:8080/"
        },
        "id": "Wt0dn9uPLsqb",
        "outputId": "6c2e5d06-0262-4a89-ef23-42ae6cc80312"
      },
      "execution_count": 9,
      "outputs": [
        {
          "output_type": "execute_result",
          "data": {
            "text/plain": [
              "tensor([[[0.0629, 0.2848, 0.6810, 0.4568, 0.5433],\n",
              "         [0.6851, 0.9922, 0.0263, 0.3169, 0.3326]]])"
            ]
          },
          "metadata": {},
          "execution_count": 9
        }
      ]
    },
    {
      "cell_type": "code",
      "source": [
        "zeros_like = torch.zeros_like(tensor)\n",
        "zeros_like"
      ],
      "metadata": {
        "colab": {
          "base_uri": "https://localhost:8080/"
        },
        "id": "kunbOSZFMSuh",
        "outputId": "4bbcb167-6cca-4f0a-aa00-33b0d781fc7e"
      },
      "execution_count": 36,
      "outputs": [
        {
          "output_type": "execute_result",
          "data": {
            "text/plain": [
              "tensor([[[0., 0., 0., 0., 0.],\n",
              "         [0., 0., 0., 0., 0.]]])"
            ]
          },
          "metadata": {},
          "execution_count": 36
        }
      ]
    },
    {
      "cell_type": "code",
      "source": [
        "ones_like = torch.ones_like(tensor)\n",
        "ones_like"
      ],
      "metadata": {
        "colab": {
          "base_uri": "https://localhost:8080/"
        },
        "id": "USgPi0vmMe7b",
        "outputId": "d5ac3661-30b8-45f5-952f-b4aa3f4f2c56"
      },
      "execution_count": 11,
      "outputs": [
        {
          "output_type": "execute_result",
          "data": {
            "text/plain": [
              "tensor([[[1., 1., 1., 1., 1.],\n",
              "         [1., 1., 1., 1., 1.]]])"
            ]
          },
          "metadata": {},
          "execution_count": 11
        }
      ]
    },
    {
      "cell_type": "code",
      "source": [
        "rand_like = torch.rand_like(tensor)\n",
        "rand_like"
      ],
      "metadata": {
        "colab": {
          "base_uri": "https://localhost:8080/"
        },
        "id": "tEF3unzHMjvR",
        "outputId": "971539a9-4e45-45c1-b4d5-0899c177ecf6"
      },
      "execution_count": 10,
      "outputs": [
        {
          "output_type": "execute_result",
          "data": {
            "text/plain": [
              "tensor([[[0.6188, 0.8906, 0.4084, 0.9898, 0.4653],\n",
              "         [0.4391, 0.8416, 0.8188, 0.4704, 0.6474]]])"
            ]
          },
          "metadata": {},
          "execution_count": 10
        }
      ]
    },
    {
      "cell_type": "markdown",
      "source": [
        "**TENSOR OPERATIONS**\n",
        "1. Addition/Subtraction\n",
        "2. Multiplication/Division\n",
        "3. Matrix multiplication"
      ],
      "metadata": {
        "id": "YoYoRdnwTsGL"
      }
    },
    {
      "cell_type": "code",
      "source": [
        "# addition\n",
        "tensor = torch.tensor([1, 2, 3])\n",
        "tensor + 100"
      ],
      "metadata": {
        "colab": {
          "base_uri": "https://localhost:8080/"
        },
        "id": "b05ITY11T559",
        "outputId": "abd3329a-fcce-48fb-fac7-a736aaa5843c"
      },
      "execution_count": 12,
      "outputs": [
        {
          "output_type": "execute_result",
          "data": {
            "text/plain": [
              "tensor([101, 102, 103])"
            ]
          },
          "metadata": {},
          "execution_count": 12
        }
      ]
    },
    {
      "cell_type": "code",
      "source": [
        "torch.add(tensor, 100)"
      ],
      "metadata": {
        "colab": {
          "base_uri": "https://localhost:8080/"
        },
        "id": "GHtrp4DTUirL",
        "outputId": "6194ca77-c52b-47c4-efaa-825f5ed8082e"
      },
      "execution_count": 14,
      "outputs": [
        {
          "output_type": "execute_result",
          "data": {
            "text/plain": [
              "tensor([101, 102, 103])"
            ]
          },
          "metadata": {},
          "execution_count": 14
        }
      ]
    },
    {
      "cell_type": "code",
      "source": [
        "tensor.add(10)"
      ],
      "metadata": {
        "colab": {
          "base_uri": "https://localhost:8080/"
        },
        "id": "2bzfHnEGUzKR",
        "outputId": "4c32c7f7-d389-4d56-c57a-2a5d781dbd7a"
      },
      "execution_count": 18,
      "outputs": [
        {
          "output_type": "execute_result",
          "data": {
            "text/plain": [
              "tensor([11, 12, 13])"
            ]
          },
          "metadata": {},
          "execution_count": 18
        }
      ]
    },
    {
      "cell_type": "code",
      "source": [
        "# multiplication\n",
        "tensor * 2"
      ],
      "metadata": {
        "colab": {
          "base_uri": "https://localhost:8080/"
        },
        "id": "3RD4zXnIUBFK",
        "outputId": "4bd66b11-ebb5-45ec-9869-bac4865d4819"
      },
      "execution_count": 13,
      "outputs": [
        {
          "output_type": "execute_result",
          "data": {
            "text/plain": [
              "tensor([2, 4, 6])"
            ]
          },
          "metadata": {},
          "execution_count": 13
        }
      ]
    },
    {
      "cell_type": "code",
      "source": [
        "torch.mul(tensor, 2)"
      ],
      "metadata": {
        "colab": {
          "base_uri": "https://localhost:8080/"
        },
        "id": "Y_Tos-oBUn7i",
        "outputId": "8b92c191-c5cc-4e84-aa96-95537fd7ceda"
      },
      "execution_count": 16,
      "outputs": [
        {
          "output_type": "execute_result",
          "data": {
            "text/plain": [
              "tensor([2, 4, 6])"
            ]
          },
          "metadata": {},
          "execution_count": 16
        }
      ]
    },
    {
      "cell_type": "code",
      "source": [
        "tensor.mul(2)"
      ],
      "metadata": {
        "colab": {
          "base_uri": "https://localhost:8080/"
        },
        "id": "rkh0RKl6UwfN",
        "outputId": "664a0a98-49d7-4703-94e9-1cdd92026efd"
      },
      "execution_count": 19,
      "outputs": [
        {
          "output_type": "execute_result",
          "data": {
            "text/plain": [
              "tensor([2, 4, 6])"
            ]
          },
          "metadata": {},
          "execution_count": 19
        }
      ]
    }
  ]
}