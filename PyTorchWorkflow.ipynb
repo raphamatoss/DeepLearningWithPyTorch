{
  "nbformat": 4,
  "nbformat_minor": 0,
  "metadata": {
    "colab": {
      "provenance": [],
      "authorship_tag": "ABX9TyN9xnlHJOBpPhvzfSEMfs7F",
      "include_colab_link": true
    },
    "kernelspec": {
      "name": "python3",
      "display_name": "Python 3"
    },
    "language_info": {
      "name": "python"
    }
  },
  "cells": [
    {
      "cell_type": "markdown",
      "metadata": {
        "id": "view-in-github",
        "colab_type": "text"
      },
      "source": [
        "<a href=\"https://colab.research.google.com/github/raphamatoss/DeepLearningWithPyTorch/blob/main/PyTorchWorkflow.ipynb\" target=\"_parent\"><img src=\"https://colab.research.google.com/assets/colab-badge.svg\" alt=\"Open In Colab\"/></a>"
      ]
    },
    {
      "cell_type": "markdown",
      "source": [
        "1. Data: prepare and load\n",
        "2. Build a model\n",
        "3. Fit the model to the data(training)\n",
        "4. Make predictions and evaluate a model\n",
        "5. Save and load a model\n",
        "6. Put it all together"
      ],
      "metadata": {
        "id": "C0V2RtP1Mu0X"
      }
    },
    {
      "cell_type": "code",
      "source": [
        "import torch\n",
        "from torch import nn # nn contains all of PyTorcg's building blocks for neural networks\n",
        "import matplotlib.pyplot as plt"
      ],
      "metadata": {
        "id": "v78_yP3bO0NM"
      },
      "execution_count": 1,
      "outputs": []
    },
    {
      "cell_type": "markdown",
      "source": [
        "**1. DATA**\n",
        "\n",
        "Data can be almost everything:\n",
        "- DNA\n",
        "- Imagens\n",
        "- Music\n",
        "- Text"
      ],
      "metadata": {
        "id": "62edxHf63BhB"
      }
    },
    {
      "cell_type": "markdown",
      "source": [
        "We need to turn data into numbers and then build a model to learn patters in the numbers.\n",
        "To showcase this, let´s create some known data using the linear regression formula. We'll make a straight line with know parameters."
      ],
      "metadata": {
        "id": "tRc2Z0du4fih"
      }
    },
    {
      "cell_type": "code",
      "source": [
        "# Create known parameters\n",
        "weight = 0.7\n",
        "bias = 0.3\n",
        "\n",
        "X = torch.arange(0, 1, 0.02).unsqueeze(dim=1)\n",
        "y = weight * X + bias\n",
        "\n",
        "X[:10], y[:10]"
      ],
      "metadata": {
        "colab": {
          "base_uri": "https://localhost:8080/"
        },
        "id": "TE6Dmrjg7j2R",
        "outputId": "3fb49a25-50c9-4795-ad58-8f955d7d2842"
      },
      "execution_count": 12,
      "outputs": [
        {
          "output_type": "execute_result",
          "data": {
            "text/plain": [
              "(tensor([[0.0000],\n",
              "         [0.0200],\n",
              "         [0.0400],\n",
              "         [0.0600],\n",
              "         [0.0800],\n",
              "         [0.1000],\n",
              "         [0.1200],\n",
              "         [0.1400],\n",
              "         [0.1600],\n",
              "         [0.1800]]),\n",
              " tensor([[0.3000],\n",
              "         [0.3140],\n",
              "         [0.3280],\n",
              "         [0.3420],\n",
              "         [0.3560],\n",
              "         [0.3700],\n",
              "         [0.3840],\n",
              "         [0.3980],\n",
              "         [0.4120],\n",
              "         [0.4260]]))"
            ]
          },
          "metadata": {},
          "execution_count": 12
        }
      ]
    },
    {
      "cell_type": "code",
      "source": [
        "len(X), len(y)"
      ],
      "metadata": {
        "colab": {
          "base_uri": "https://localhost:8080/"
        },
        "id": "VbukBTMe8108",
        "outputId": "2ebd443b-bedb-48f5-b31f-22f1b2efd0bf"
      },
      "execution_count": 17,
      "outputs": [
        {
          "output_type": "execute_result",
          "data": {
            "text/plain": [
              "(50, 50)"
            ]
          },
          "metadata": {},
          "execution_count": 17
        }
      ]
    },
    {
      "cell_type": "markdown",
      "source": [
        "**Splitting Data**\n",
        "\n",
        "Training and testing sets are essencial in ML/DL, this division allow us to evaluate our model. There is also often a validation set, but it's not mandatory."
      ],
      "metadata": {
        "id": "FK_lxf8Y-il1"
      }
    },
    {
      "cell_type": "code",
      "source": [
        "# Create a train/test split\n",
        "train_split =  int(0.8 * len(X))\n",
        "X_train, y_train =  X[:train_split], y[:train_split]\n",
        "X_test, y_test = X[train_split:], y[train_split:]\n",
        "\n",
        "len(X_train), len(y_train), len(X_test), len(y_test)"
      ],
      "metadata": {
        "colab": {
          "base_uri": "https://localhost:8080/"
        },
        "id": "Znuk8sSi_IET",
        "outputId": "1df5fb3a-d331-4740-84d4-74335f52eb1e"
      },
      "execution_count": 18,
      "outputs": [
        {
          "output_type": "execute_result",
          "data": {
            "text/plain": [
              "(40, 40, 10, 10)"
            ]
          },
          "metadata": {},
          "execution_count": 18
        }
      ]
    },
    {
      "cell_type": "code",
      "source": [
        "# Let's create a function to visualize our data!\n",
        "def plot_predictions(train_data=X_train,\n",
        "                     train_labels=y_train,\n",
        "                     test_data=X_test,\n",
        "                     test_labels=y_test,\n",
        "                     predictions=None):\n",
        "  \"\"\"\n",
        "  Plots training data, test data and compare predictions\n",
        "  \"\"\"\n",
        "  plt.figure(figsize=(10, 7))\n",
        "\n",
        "  ### Plot training data in blue\n",
        "  # matplotlib.pyplot.scatter takes (x=train_data, y=train_label) as the data position\n",
        "  plt.scatter(train_data, train_labels, c=\"b\", s=4, label=\"Training set\")\n",
        "\n",
        "  # Plot test data in green\n",
        "  plt.scatter(test_data, test_labels, c=\"g\", s=4, label=\"Testing set\")\n",
        "\n",
        "  if predictions is not None:\n",
        "    # Plot the predictions in red(predictions made on the test data)\n",
        "    plt.scatter(test_data, predictions, c=\"r\", s=4, label=\"Predictions\")\n",
        "\n",
        "  plt.legend(prop={\"size\": 14})\n"
      ],
      "metadata": {
        "id": "B2h9XqknC07H"
      },
      "execution_count": 24,
      "outputs": []
    },
    {
      "cell_type": "code",
      "source": [
        "plot_predictions()"
      ],
      "metadata": {
        "colab": {
          "base_uri": "https://localhost:8080/",
          "height": 460
        },
        "id": "JElLwS0nE5mL",
        "outputId": "ec69276a-d0f4-4dcd-fe0c-a0aae00d3667"
      },
      "execution_count": 25,
      "outputs": [
        {
          "output_type": "display_data",
          "data": {
            "text/plain": [
              "<Figure size 1000x700 with 1 Axes>"
            ],
            "image/png": "[encoded data removed]"
          },
          "metadata": {}
        }
      ]
    }
  ]
}