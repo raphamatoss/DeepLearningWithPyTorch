{
  "nbformat": 4,
  "nbformat_minor": 0,
  "metadata": {
    "colab": {
      "provenance": [],
      "authorship_tag": "ABX9TyOBh5iSOHbi0fAg7UbySjcd",
      "include_colab_link": true
    },
    "kernelspec": {
      "name": "python3",
      "display_name": "Python 3"
    },
    "language_info": {
      "name": "python"
    }
  },
  "cells": [
    {
      "cell_type": "markdown",
      "metadata": {
        "id": "view-in-github",
        "colab_type": "text"
      },
      "source": [
        "<a href=\"https://colab.research.google.com/github/raphamatoss/DeepLearningWithPyTorch/blob/main/PyTorchWorkflow.ipynb\" target=\"_parent\"><img src=\"https://colab.research.google.com/assets/colab-badge.svg\" alt=\"Open In Colab\"/></a>"
      ]
    },
    {
      "cell_type": "markdown",
      "source": [
        "1. Data: prepare and load\n",
        "2. Build a model\n",
        "3. Fit the model to the data(training)\n",
        "4. Make predictions and evaluate a model\n",
        "5. Save and load a model\n",
        "6. Put it all together"
      ],
      "metadata": {
        "id": "C0V2RtP1Mu0X"
      }
    },
    {
      "cell_type": "code",
      "source": [
        "import torch\n",
        "from torch import nn # nn contains all of PyTorcg's building blocks for neural networks\n",
        "import matplotlib.pyplot as plt"
      ],
      "metadata": {
        "id": "v78_yP3bO0NM"
      },
      "execution_count": null,
      "outputs": []
    },
    {
      "cell_type": "markdown",
      "source": [
        "**1. DATA**\n",
        "\n",
        "Data can be almost everything:\n",
        "- DNA\n",
        "- Imagens\n",
        "- Music\n",
        "- Text"
      ],
      "metadata": {
        "id": "62edxHf63BhB"
      }
    },
    {
      "cell_type": "markdown",
      "source": [
        "We need to turn data into numbers and then build a model to learn patters in the numbers.\n",
        "To showcase this, let´s create some known data using the linear regression formula. We'll make a straight line with know parameters."
      ],
      "metadata": {
        "id": "tRc2Z0du4fih"
      }
    },
    {
      "cell_type": "code",
      "source": [
        "# Create known parameters\n",
        "weight = 0.7\n",
        "bias = 0.3\n",
        "\n",
        "X = torch.arange(0, 1, 0.02).unsqueeze(dim=1)\n",
        "y = weight * X + bias\n",
        "\n",
        "X[:10], y[:10]"
      ],
      "metadata": {
        "colab": {
          "base_uri": "https://localhost:8080/"
        },
        "id": "TE6Dmrjg7j2R",
        "outputId": "6b6e516f-7582-4a9c-dcf0-f89613f7a1ea"
      },
      "execution_count": null,
      "outputs": [
        {
          "output_type": "execute_result",
          "data": {
            "text/plain": [
              "(tensor([[0.0000],\n",
              "         [0.0200],\n",
              "         [0.0400],\n",
              "         [0.0600],\n",
              "         [0.0800],\n",
              "         [0.1000],\n",
              "         [0.1200],\n",
              "         [0.1400],\n",
              "         [0.1600],\n",
              "         [0.1800]]),\n",
              " tensor([[0.3000],\n",
              "         [0.3140],\n",
              "         [0.3280],\n",
              "         [0.3420],\n",
              "         [0.3560],\n",
              "         [0.3700],\n",
              "         [0.3840],\n",
              "         [0.3980],\n",
              "         [0.4120],\n",
              "         [0.4260]]))"
            ]
          },
          "metadata": {},
          "execution_count": 13
        }
      ]
    },
    {
      "cell_type": "code",
      "source": [
        "len(X), len(y)"
      ],
      "metadata": {
        "colab": {
          "base_uri": "https://localhost:8080/"
        },
        "id": "VbukBTMe8108",
        "outputId": "2fcec9f1-4c50-47b6-df91-a98b9270c64d"
      },
      "execution_count": null,
      "outputs": [
        {
          "output_type": "execute_result",
          "data": {
            "text/plain": [
              "(50, 50)"
            ]
          },
          "metadata": {},
          "execution_count": 14
        }
      ]
    },
    {
      "cell_type": "markdown",
      "source": [
        "**Splitting Data**\n",
        "\n",
        "Training and testing sets are essencial in ML/DL, this division allow us to evaluate our model. There is also often a validation set, but it's not mandatory."
      ],
      "metadata": {
        "id": "FK_lxf8Y-il1"
      }
    },
    {
      "cell_type": "code",
      "source": [
        "# Create a train/test split\n",
        "train_split =  int(0.8 * len(X))\n",
        "X_train, y_train =  X[:train_split], y[:train_split]\n",
        "X_test, y_test = X[train_split:], y[train_split:]\n",
        "\n",
        "len(X_train), len(y_train), len(X_test), len(y_test)"
      ],
      "metadata": {
        "colab": {
          "base_uri": "https://localhost:8080/"
        },
        "id": "Znuk8sSi_IET",
        "outputId": "09a6587a-0c46-4f08-de87-0173188f1413"
      },
      "execution_count": null,
      "outputs": [
        {
          "output_type": "execute_result",
          "data": {
            "text/plain": [
              "(40, 40, 10, 10)"
            ]
          },
          "metadata": {},
          "execution_count": 15
        }
      ]
    },
    {
      "cell_type": "code",
      "source": [
        "# Let's create a function to visualize our data!\n",
        "def plot_predictions(train_data=X_train,\n",
        "                     train_labels=y_train,\n",
        "                     test_data=X_test,\n",
        "                     test_labels=y_test,\n",
        "                     predictions=None):\n",
        "  \"\"\"\n",
        "  Plots training data, test data and compare predictions\n",
        "  \"\"\"\n",
        "  plt.figure(figsize=(10, 7))\n",
        "\n",
        "  ### Plot training data in blue\n",
        "  # matplotlib.pyplot.scatter takes (x=train_data, y=train_label) as the data position\n",
        "  plt.scatter(train_data, train_labels, c=\"b\", s=4, label=\"Training set\")\n",
        "\n",
        "  # Plot test data in green\n",
        "  plt.scatter(test_data, test_labels, c=\"g\", s=4, label=\"Testing set\")\n",
        "\n",
        "  if predictions is not None:\n",
        "    # Plot the predictions in red(predictions made on the test data)\n",
        "    numpy_predictions = predictions.detach().numpy()\n",
        "    plt.scatter(test_data, numpy_predictions, c=\"r\", s=4, label=\"Predictions\")\n",
        "\n",
        "  plt.legend(prop={\"size\": 14})\n"
      ],
      "metadata": {
        "id": "B2h9XqknC07H"
      },
      "execution_count": null,
      "outputs": []
    },
    {
      "cell_type": "code",
      "source": [
        "plot_predictions()"
      ],
      "metadata": {
        "colab": {
          "base_uri": "https://localhost:8080/",
          "height": 599
        },
        "id": "JElLwS0nE5mL",
        "outputId": "addddf53-4c86-4187-bb06-45f39ab908f5"
      },
      "execution_count": null,
      "outputs": [
        {
          "output_type": "display_data",
          "data": {
            "text/plain": [
              "<Figure size 1000x700 with 1 Axes>"
            ],
            "image/png": "[encoded data removed]"
          },
          "metadata": {}
        }
      ]
    },
    {
      "cell_type": "markdown",
      "source": [
        "**2. Build a Model**\n",
        "\n",
        "First PyTorch model\n"
      ],
      "metadata": {
        "id": "TIT3KO-HdKAx"
      }
    },
    {
      "cell_type": "code",
      "source": [
        "import torch\n",
        "from torch import nn\n",
        "\n",
        "# creating a linear regression model class\n",
        "class LinearRegressionModel(nn.Module): #nn.Module is a superclass to all models  in PyTorch\n",
        "  def __init__(self):\n",
        "    super().__init__()\n",
        "    self.weights = nn.Parameter(torch.rand(1, requires_grad=True))\n",
        "    self.bias = nn.Parameter(torch.rand(1, requires_grad=True))\n",
        "\n",
        "  #forward method to define the computation in the model\n",
        "  def forward(self, x: torch.Tensor) -> torch.Tensor: # \"x\" is the input data\n",
        "    return self.weights * x + self.bias\n"
      ],
      "metadata": {
        "id": "ropFjdhre7LZ"
      },
      "execution_count": null,
      "outputs": []
    },
    {
      "cell_type": "markdown",
      "source": [
        "**PyTorch Model Building Essentials**\n",
        "\n",
        "`torch.nn` contains all of the building blocks for computational graphs\n",
        "\n",
        "`torch.nn.Parameter` what a should model try and learn, often a PyTorch layer from torch.nn will set these for us\n",
        "\n",
        "`torch.nn.Module` the super class for all neural network classes, if we subclass it, we should overwrite forward()\n",
        "\n",
        "`torch.optim` the optimizers implemented by PyTorch\n",
        "\n",
        "`def forward()` all nn.Module subclasses requires the method to be overwritten, this method defines what happens in the forward computation"
      ],
      "metadata": {
        "id": "Zl4B8IM_rJxZ"
      }
    },
    {
      "cell_type": "markdown",
      "source": [
        "**Checking the contents of our PyTorch model**\n",
        "\n",
        "We can check our model parameters using `.parameters()`"
      ],
      "metadata": {
        "id": "N45D7XbQt7Kj"
      }
    },
    {
      "cell_type": "code",
      "source": [
        "torch.manual_seed(0)\n",
        "\n",
        "model = LinearRegressionModel()\n",
        "\n",
        "list(model.parameters())"
      ],
      "metadata": {
        "colab": {
          "base_uri": "https://localhost:8080/"
        },
        "id": "LzcaQe0nuGI3",
        "outputId": "ecbf9d52-cbcd-4e92-88d4-931f65140845"
      },
      "execution_count": null,
      "outputs": [
        {
          "output_type": "execute_result",
          "data": {
            "text/plain": [
              "[Parameter containing:\n",
              " tensor([0.4963], requires_grad=True),\n",
              " Parameter containing:\n",
              " tensor([0.7682], requires_grad=True)]"
            ]
          },
          "metadata": {},
          "execution_count": 19
        }
      ]
    },
    {
      "cell_type": "code",
      "source": [
        "# List named parameters\n",
        "model.state_dict()"
      ],
      "metadata": {
        "colab": {
          "base_uri": "https://localhost:8080/"
        },
        "id": "jK-4Ydmzv_j1",
        "outputId": "6683f137-f467-4794-9a9e-695ce6542a92"
      },
      "execution_count": null,
      "outputs": [
        {
          "output_type": "execute_result",
          "data": {
            "text/plain": [
              "OrderedDict([('weights', tensor([0.4963])), ('bias', tensor([0.7682]))])"
            ]
          },
          "metadata": {},
          "execution_count": 20
        }
      ]
    },
    {
      "cell_type": "markdown",
      "source": [
        "**Making predictions using  `torch.inference_mode()`**\n",
        "\n",
        "To check our model's predictive power, let's see how well it predicts `y_test` based on `X_test`. When we pass data through our model, its going to tun it through the `forward()` method."
      ],
      "metadata": {
        "id": "eiyOm4nsxeiX"
      }
    },
    {
      "cell_type": "code",
      "source": [
        "with torch.inference_mode(): # inference mode disables background functions such as backpropagation\n",
        "  y_preds = model(X_test)\n",
        "\n",
        "y_preds"
      ],
      "metadata": {
        "colab": {
          "base_uri": "https://localhost:8080/"
        },
        "id": "FSqm8NU6yD0H",
        "outputId": "c5c977b8-567c-460e-d10b-d687d69dfb5b"
      },
      "execution_count": null,
      "outputs": [
        {
          "output_type": "execute_result",
          "data": {
            "text/plain": [
              "tensor([[1.1652],\n",
              "        [1.1752],\n",
              "        [1.1851],\n",
              "        [1.1950],\n",
              "        [1.2049],\n",
              "        [1.2149],\n",
              "        [1.2248],\n",
              "        [1.2347],\n",
              "        [1.2446],\n",
              "        [1.2546]])"
            ]
          },
          "metadata": {},
          "execution_count": 22
        }
      ]
    },
    {
      "cell_type": "code",
      "source": [
        "# we could also use:\n",
        "y_preds = model(X_test)\n",
        "y_preds"
      ],
      "metadata": {
        "colab": {
          "base_uri": "https://localhost:8080/"
        },
        "id": "QrOZ7_IdzJDN",
        "outputId": "20936de1-07d7-436b-8205-e729706b28bb"
      },
      "execution_count": null,
      "outputs": [
        {
          "output_type": "execute_result",
          "data": {
            "text/plain": [
              "tensor([[1.1652],\n",
              "        [1.1752],\n",
              "        [1.1851],\n",
              "        [1.1950],\n",
              "        [1.2049],\n",
              "        [1.2149],\n",
              "        [1.2248],\n",
              "        [1.2347],\n",
              "        [1.2446],\n",
              "        [1.2546]], grad_fn=<AddBackward0>)"
            ]
          },
          "metadata": {},
          "execution_count": 26
        }
      ]
    },
    {
      "cell_type": "code",
      "source": [
        "# what we expected:\n",
        "y_test"
      ],
      "metadata": {
        "colab": {
          "base_uri": "https://localhost:8080/"
        },
        "id": "yxHO5cTGyX-x",
        "outputId": "f2489dd5-f1aa-44ab-ed9e-dea7a34ae996"
      },
      "execution_count": null,
      "outputs": [
        {
          "output_type": "execute_result",
          "data": {
            "text/plain": [
              "tensor([[0.8600],\n",
              "        [0.8740],\n",
              "        [0.8880],\n",
              "        [0.9020],\n",
              "        [0.9160],\n",
              "        [0.9300],\n",
              "        [0.9440],\n",
              "        [0.9580],\n",
              "        [0.9720],\n",
              "        [0.9860]])"
            ]
          },
          "metadata": {},
          "execution_count": 23
        }
      ]
    },
    {
      "cell_type": "code",
      "source": [
        "plot_predictions(predictions=y_preds)"
      ],
      "metadata": {
        "colab": {
          "base_uri": "https://localhost:8080/",
          "height": 599
        },
        "id": "gdWgpCR7za6E",
        "outputId": "1a85bea0-c120-4bd8-d59d-7156e98745c5"
      },
      "execution_count": null,
      "outputs": [
        {
          "output_type": "display_data",
          "data": {
            "text/plain": [
              "<Figure size 1000x700 with 1 Axes>"
            ],
            "image/png": "[encoded data removed]"
          },
          "metadata": {}
        }
      ]
    },
    {
      "cell_type": "markdown",
      "source": [
        "**3. Training a model**\n",
        "\n",
        "The concept of training a model is to move from some unknown parameters(probably random) to some known parameters that better represents our data\n",
        "\n",
        "One way to measure how poor our models predictions are is to use a loss function, also called cost function.\n",
        "\n",
        "*Loss Function:* a function that measures how wrong the model's predictions are to the ideal output. Lower is better.\n",
        "\n",
        "*Optimizer:* takes the loss of the model and adjust the model's parameters to reduce the loss\n",
        "\n",
        "With PyTorch we nedd:\n",
        "- A training loop\n",
        "- A testing loop"
      ],
      "metadata": {
        "id": "BJrkvwou1Q2u"
      }
    }
  ]
}