{
  "nbformat": 4,
  "nbformat_minor": 0,
  "metadata": {
    "colab": {
      "provenance": [],
      "gpuType": "T4",
      "authorship_tag": "ABX9TyNae2Xxmxf+65f2R3fTtcLP",
      "include_colab_link": true
    },
    "kernelspec": {
      "name": "python3",
      "display_name": "Python 3"
    },
    "language_info": {
      "name": "python"
    },
    "accelerator": "GPU"
  },
  "cells": [
    {
      "cell_type": "markdown",
      "metadata": {
        "id": "view-in-github",
        "colab_type": "text"
      },
      "source": [
        "<a href=\"https://colab.research.google.com/github/raphamatoss/DeepLearningWithPyTorch/blob/main/PyTorchWorkflow.ipynb\" target=\"_parent\"><img src=\"https://colab.research.google.com/assets/colab-badge.svg\" alt=\"Open In Colab\"/></a>"
      ]
    },
    {
      "cell_type": "markdown",
      "source": [
        "1. Data: prepare and load\n",
        "2. Build a model\n",
        "3. Fit the model to the data(training)\n",
        "4. Make predictions and evaluate a model\n",
        "5. Save and load a model\n",
        "6. Put it all together"
      ],
      "metadata": {
        "id": "C0V2RtP1Mu0X"
      }
    },
    {
      "cell_type": "code",
      "source": [
        "import torch\n",
        "from torch import nn # nn contains all of PyTorcg's building blocks for neural networks\n",
        "import matplotlib.pyplot as plt"
      ],
      "metadata": {
        "id": "v78_yP3bO0NM"
      },
      "execution_count": null,
      "outputs": []
    },
    {
      "cell_type": "markdown",
      "source": [
        "**1. DATA**\n",
        "\n",
        "Data can be almost everything:\n",
        "- DNA\n",
        "- Imagens\n",
        "- Music\n",
        "- Text"
      ],
      "metadata": {
        "id": "62edxHf63BhB"
      }
    },
    {
      "cell_type": "markdown",
      "source": [
        "We need to turn data into numbers and then build a model to learn patters in the numbers.\n",
        "To showcase this, let´s create some known data using the linear regression formula. We'll make a straight line with know parameters."
      ],
      "metadata": {
        "id": "tRc2Z0du4fih"
      }
    },
    {
      "cell_type": "code",
      "source": [
        "# Create known parameters\n",
        "weight = 0.7\n",
        "bias = 0.3\n",
        "\n",
        "X = torch.arange(0, 1, 0.02).unsqueeze(dim=1)\n",
        "y = weight * X + bias\n",
        "\n",
        "X[:10], y[:10]"
      ],
      "metadata": {
        "colab": {
          "base_uri": "https://localhost:8080/"
        },
        "id": "TE6Dmrjg7j2R",
        "outputId": "919b08b9-3ae9-47a4-a813-3b7e18107966"
      },
      "execution_count": null,
      "outputs": [
        {
          "output_type": "execute_result",
          "data": {
            "text/plain": [
              "(tensor([[0.0000],\n",
              "         [0.0200],\n",
              "         [0.0400],\n",
              "         [0.0600],\n",
              "         [0.0800],\n",
              "         [0.1000],\n",
              "         [0.1200],\n",
              "         [0.1400],\n",
              "         [0.1600],\n",
              "         [0.1800]]),\n",
              " tensor([[0.3000],\n",
              "         [0.3140],\n",
              "         [0.3280],\n",
              "         [0.3420],\n",
              "         [0.3560],\n",
              "         [0.3700],\n",
              "         [0.3840],\n",
              "         [0.3980],\n",
              "         [0.4120],\n",
              "         [0.4260]]))"
            ]
          },
          "metadata": {},
          "execution_count": 30
        }
      ]
    },
    {
      "cell_type": "code",
      "source": [
        "len(X), len(y)"
      ],
      "metadata": {
        "colab": {
          "base_uri": "https://localhost:8080/"
        },
        "id": "VbukBTMe8108",
        "outputId": "94deb578-f092-4046-b411-51e7d79b60c7"
      },
      "execution_count": null,
      "outputs": [
        {
          "output_type": "execute_result",
          "data": {
            "text/plain": [
              "(50, 50)"
            ]
          },
          "metadata": {},
          "execution_count": 31
        }
      ]
    },
    {
      "cell_type": "markdown",
      "source": [
        "**Splitting Data**\n",
        "\n",
        "Training and testing sets are essencial in ML/DL, this division allow us to evaluate our model. There is also often a validation set, but it's not mandatory."
      ],
      "metadata": {
        "id": "FK_lxf8Y-il1"
      }
    },
    {
      "cell_type": "code",
      "source": [
        "# Create a train/test split\n",
        "train_split =  int(0.8 * len(X))\n",
        "X_train, y_train =  X[:train_split], y[:train_split]\n",
        "X_test, y_test = X[train_split:], y[train_split:]\n",
        "\n",
        "len(X_train), len(y_train), len(X_test), len(y_test)"
      ],
      "metadata": {
        "colab": {
          "base_uri": "https://localhost:8080/"
        },
        "id": "Znuk8sSi_IET",
        "outputId": "54167a90-b827-4d21-90ad-beb9e09713e2"
      },
      "execution_count": null,
      "outputs": [
        {
          "output_type": "execute_result",
          "data": {
            "text/plain": [
              "(40, 40, 10, 10)"
            ]
          },
          "metadata": {},
          "execution_count": 32
        }
      ]
    },
    {
      "cell_type": "code",
      "source": [
        "# Let's create a function to visualize our data!\n",
        "import torch\n",
        "\n",
        "def plot_predictions(train_data=X_train,\n",
        "                     train_labels=y_train,\n",
        "                     test_data=X_test,\n",
        "                     test_labels=y_test,\n",
        "                     predictions=None):\n",
        "  \"\"\"\n",
        "  Plots training data, test data and compare predictions\n",
        "  \"\"\"\n",
        "  plt.figure(figsize=(10, 7))\n",
        "\n",
        "  ### Plot training data in blue\n",
        "  # matplotlib.pyplot.scatter takes (x=train_data, y=train_label) as the data position\n",
        "  plt.scatter(train_data, train_labels, c=\"b\", s=4, label=\"Training set\")\n",
        "\n",
        "  # Plot test data in green\n",
        "  plt.scatter(test_data, test_labels, c=\"g\", s=4, label=\"Testing set\")\n",
        "\n",
        "  if predictions is not None:\n",
        "    # Plot the predictions in red(predictions made on the test data)\n",
        "    numpy_predictions = predictions.detach().numpy()\n",
        "    plt.scatter(test_data, numpy_predictions, c=\"r\", s=4, label=\"Predictions\")\n",
        "\n",
        "  plt.legend(prop={\"size\": 14})\n"
      ],
      "metadata": {
        "id": "B2h9XqknC07H"
      },
      "execution_count": 51,
      "outputs": []
    },
    {
      "cell_type": "code",
      "source": [
        "plot_predictions()"
      ],
      "metadata": {
        "colab": {
          "base_uri": "https://localhost:8080/",
          "height": 599
        },
        "id": "JElLwS0nE5mL",
        "outputId": "dfe6ee3f-ecd9-4ac8-f47b-838ffaa838a3"
      },
      "execution_count": null,
      "outputs": [
        {
          "output_type": "display_data",
          "data": {
            "text/plain": [
              "<Figure size 1000x700 with 1 Axes>"
            ],
            "image/png": "[encoded data removed]"
          },
          "metadata": {}
        }
      ]
    },
    {
      "cell_type": "markdown",
      "source": [
        "**2. Build a Model**\n",
        "\n",
        "First PyTorch model\n"
      ],
      "metadata": {
        "id": "TIT3KO-HdKAx"
      }
    },
    {
      "cell_type": "code",
      "source": [
        "import torch\n",
        "from torch import nn\n",
        "\n",
        "# creating a linear regression model class\n",
        "class LinearRegressionModel(nn.Module): #nn.Module is a superclass to all models  in PyTorch\n",
        "  def __init__(self):\n",
        "    super().__init__()\n",
        "    self.weights = nn.Parameter(torch.rand(1, requires_grad=True))\n",
        "    self.bias = nn.Parameter(torch.rand(1, requires_grad=True))\n",
        "\n",
        "  #forward method to define the computation in the model\n",
        "  def forward(self, x: torch.Tensor) -> torch.Tensor: # \"x\" is the input data\n",
        "    return self.weights * x + self.bias\n"
      ],
      "metadata": {
        "id": "ropFjdhre7LZ"
      },
      "execution_count": null,
      "outputs": []
    },
    {
      "cell_type": "markdown",
      "source": [
        "**PyTorch Model Building Essentials**\n",
        "\n",
        "`torch.nn` contains all of the building blocks for computational graphs\n",
        "\n",
        "`torch.nn.Parameter` what a should model try and learn, often a PyTorch layer from torch.nn will set these for us\n",
        "\n",
        "`torch.nn.Module` the super class for all neural network classes, if we subclass it, we should overwrite forward()\n",
        "\n",
        "`torch.optim` the optimizers implemented by PyTorch\n",
        "\n",
        "`def forward()` all nn.Module subclasses requires the method to be overwritten, this method defines what happens in the forward computation"
      ],
      "metadata": {
        "id": "Zl4B8IM_rJxZ"
      }
    },
    {
      "cell_type": "markdown",
      "source": [
        "**Checking the contents of our PyTorch model**\n",
        "\n",
        "We can check our model parameters using `.parameters()`"
      ],
      "metadata": {
        "id": "N45D7XbQt7Kj"
      }
    },
    {
      "cell_type": "code",
      "source": [
        "torch.manual_seed(42)\n",
        "\n",
        "model = LinearRegressionModel()\n",
        "\n",
        "list(model.parameters())"
      ],
      "metadata": {
        "colab": {
          "base_uri": "https://localhost:8080/"
        },
        "id": "LzcaQe0nuGI3",
        "outputId": "393f32cb-57ab-4a69-fc57-3960519a8148"
      },
      "execution_count": null,
      "outputs": [
        {
          "output_type": "execute_result",
          "data": {
            "text/plain": [
              "[Parameter containing:\n",
              " tensor([0.8823], requires_grad=True),\n",
              " Parameter containing:\n",
              " tensor([0.9150], requires_grad=True)]"
            ]
          },
          "metadata": {},
          "execution_count": 36
        }
      ]
    },
    {
      "cell_type": "code",
      "source": [
        "# List named parameters\n",
        "model.state_dict()"
      ],
      "metadata": {
        "colab": {
          "base_uri": "https://localhost:8080/"
        },
        "id": "jK-4Ydmzv_j1",
        "outputId": "59443b63-67f1-4a86-9a21-903e1e7d98e0"
      },
      "execution_count": null,
      "outputs": [
        {
          "output_type": "execute_result",
          "data": {
            "text/plain": [
              "OrderedDict([('weights', tensor([0.8823])), ('bias', tensor([0.9150]))])"
            ]
          },
          "metadata": {},
          "execution_count": 37
        }
      ]
    },
    {
      "cell_type": "markdown",
      "source": [
        "**Making predictions using  `torch.inference_mode()`**\n",
        "\n",
        "To check our model's predictive power, let's see how well it predicts `y_test` based on `X_test`. When we pass data through our model, its going to tun it through the `forward()` method."
      ],
      "metadata": {
        "id": "eiyOm4nsxeiX"
      }
    },
    {
      "cell_type": "code",
      "source": [
        "with torch.inference_mode(): # inference mode disables background functions such as backpropagation\n",
        "  y_preds = model(X_test)\n",
        "\n",
        "y_preds"
      ],
      "metadata": {
        "colab": {
          "base_uri": "https://localhost:8080/"
        },
        "id": "FSqm8NU6yD0H",
        "outputId": "695fd629-e60a-4db2-8fa7-2cb503f217d9"
      },
      "execution_count": null,
      "outputs": [
        {
          "output_type": "execute_result",
          "data": {
            "text/plain": [
              "tensor([[1.6208],\n",
              "        [1.6385],\n",
              "        [1.6561],\n",
              "        [1.6738],\n",
              "        [1.6914],\n",
              "        [1.7090],\n",
              "        [1.7267],\n",
              "        [1.7443],\n",
              "        [1.7620],\n",
              "        [1.7796]])"
            ]
          },
          "metadata": {},
          "execution_count": 38
        }
      ]
    },
    {
      "cell_type": "code",
      "source": [
        "# we could also use:\n",
        "y_preds = model(X_test)\n",
        "y_preds"
      ],
      "metadata": {
        "colab": {
          "base_uri": "https://localhost:8080/"
        },
        "id": "QrOZ7_IdzJDN",
        "outputId": "dd8aceaf-0388-498a-e210-c66350107f2e"
      },
      "execution_count": null,
      "outputs": [
        {
          "output_type": "execute_result",
          "data": {
            "text/plain": [
              "tensor([[1.6208],\n",
              "        [1.6385],\n",
              "        [1.6561],\n",
              "        [1.6738],\n",
              "        [1.6914],\n",
              "        [1.7090],\n",
              "        [1.7267],\n",
              "        [1.7443],\n",
              "        [1.7620],\n",
              "        [1.7796]], grad_fn=<AddBackward0>)"
            ]
          },
          "metadata": {},
          "execution_count": 39
        }
      ]
    },
    {
      "cell_type": "code",
      "source": [
        "# what we expected:\n",
        "y_test"
      ],
      "metadata": {
        "colab": {
          "base_uri": "https://localhost:8080/"
        },
        "id": "yxHO5cTGyX-x",
        "outputId": "9b82eeb1-6ba7-416b-bff3-1d46684703b4"
      },
      "execution_count": null,
      "outputs": [
        {
          "output_type": "execute_result",
          "data": {
            "text/plain": [
              "tensor([[0.8600],\n",
              "        [0.8740],\n",
              "        [0.8880],\n",
              "        [0.9020],\n",
              "        [0.9160],\n",
              "        [0.9300],\n",
              "        [0.9440],\n",
              "        [0.9580],\n",
              "        [0.9720],\n",
              "        [0.9860]])"
            ]
          },
          "metadata": {},
          "execution_count": 40
        }
      ]
    },
    {
      "cell_type": "code",
      "source": [
        "plot_predictions(predictions=y_preds)"
      ],
      "metadata": {
        "colab": {
          "base_uri": "https://localhost:8080/",
          "height": 599
        },
        "id": "gdWgpCR7za6E",
        "outputId": "517db729-5dfa-4df0-c392-f8dd1181da04"
      },
      "execution_count": null,
      "outputs": [
        {
          "output_type": "display_data",
          "data": {
            "text/plain": [
              "<Figure size 1000x700 with 1 Axes>"
            ],
            "image/png": "[encoded data removed]"
          },
          "metadata": {}
        }
      ]
    },
    {
      "cell_type": "markdown",
      "source": [
        "**3. Training a model**\n",
        "\n",
        "The concept of training a model is to move from some unknown parameters(probably random) to some known parameters that better represents our data\n",
        "\n",
        "One way to measure how poor our models predictions are is to use a loss function, also called cost function.\n",
        "\n",
        "*Loss Function:* a function that measures how wrong the model's predictions are to the ideal output. Lower is better.\n",
        "\n",
        "*Optimizer:* takes the loss of the model and adjust the model's parameters to reduce the loss\n",
        "\n",
        "With PyTorch we nedd:\n",
        "- A training loop\n",
        "- A testing loop"
      ],
      "metadata": {
        "id": "BJrkvwou1Q2u"
      }
    },
    {
      "cell_type": "code",
      "source": [
        "list(model.parameters())"
      ],
      "metadata": {
        "colab": {
          "base_uri": "https://localhost:8080/"
        },
        "id": "dRjxq5lnHIFt",
        "outputId": "ac01e18c-3f7e-4d11-c908-d29d118c6c09"
      },
      "execution_count": null,
      "outputs": [
        {
          "output_type": "execute_result",
          "data": {
            "text/plain": [
              "[Parameter containing:\n",
              " tensor([0.8823], requires_grad=True),\n",
              " Parameter containing:\n",
              " tensor([0.9150], requires_grad=True)]"
            ]
          },
          "metadata": {},
          "execution_count": 42
        }
      ]
    },
    {
      "cell_type": "code",
      "source": [
        "model.state_dict()"
      ],
      "metadata": {
        "colab": {
          "base_uri": "https://localhost:8080/"
        },
        "id": "Oy1VEmqvHXjG",
        "outputId": "7df222c5-7527-4d3f-8e68-222debd95704"
      },
      "execution_count": null,
      "outputs": [
        {
          "output_type": "execute_result",
          "data": {
            "text/plain": [
              "OrderedDict([('weights', tensor([0.8823])), ('bias', tensor([0.9150]))])"
            ]
          },
          "metadata": {},
          "execution_count": 43
        }
      ]
    },
    {
      "cell_type": "code",
      "source": [
        "#Setting up a loss function\n",
        "loss_f = nn.L1Loss()\n",
        "\n",
        "#setting up an optimizer(sgd)\n",
        "optimizer = torch.optim.SGD(params=model.parameters(), lr= 0.01)  #lr = learning rate"
      ],
      "metadata": {
        "id": "WbWNoVp5Ht5t"
      },
      "execution_count": null,
      "outputs": []
    },
    {
      "cell_type": "markdown",
      "source": [
        "**Building a training loop (and a testing loop)**\n",
        "\n",
        "Steps:\n",
        "1. Loop through the data\n",
        "2. Forward pass(data passing through `forward()` method of the model) to make predictions on data\n",
        "3. Calculate the loss\n",
        "4. Optimizer zero grad\n",
        "5. Loss backward -> move backwards through the network to calculate the gradients of each of the parameters of the model with respect to the loss(**backpropagation**)\n",
        "6. Optimizer step -> use the optimizer to adjust the model's parameters to try to improve the loss(**gradient descent**)\n"
      ],
      "metadata": {
        "id": "FpIB46-cbIXl"
      }
    },
    {
      "cell_type": "code",
      "source": [
        "# An epoch is one loop through the data\n",
        "epochs = 100;\n",
        "\n",
        "# Tracking values\n",
        "epoch_count = []\n",
        "loss_values = []\n",
        "test_loss_values = []\n",
        "\n",
        "### Training\n",
        "# 1. loop through the data\n",
        "for epoch in range(epochs):\n",
        "  # set the model to training mode\n",
        "  model.train() #train mode in PyToch sets all parameters that require gradients to require gradients\n",
        "\n",
        "  y_predictions = model(X_train) #performs the forward pass of the data through the model\n",
        "\n",
        "  loss = loss_f(y_predictions, y_train) #calculate the loss between the prediction and the labels\n",
        "\n",
        "  optimizer.zero_grad() #set the optimizer'gradients to zero before performing the backpropation, otherwise the gradients would accumulate\n",
        "\n",
        "  loss.backward() # perfoms the backpropagation on the loss\n",
        "\n",
        "  optimizer.step() #updates the parameters of the model with respect to the result of the backpropagation\n",
        "\n",
        "  ###Testing\n",
        "  model.eval() # turns off a variaty of settings that are not needed for evaluation/testing\n",
        "  with torch.inference_mode():\n",
        "    test_pred = model(X_test) # do the forward pass\n",
        "\n",
        "    test_loss = loss_f(test_pred, y_test) # calculate the loss\n",
        "\n",
        "  epoch_count.append(epoch)\n",
        "  loss_values.append(loss)\n",
        "  test_loss_values.append(test_loss)\n",
        "\n",
        "  print(f\"Epoch: {epoch} | Loss: {loss} | Test Loss: {test_loss}\")"
      ],
      "metadata": {
        "id": "FTGqcjWceesH",
        "colab": {
          "base_uri": "https://localhost:8080/"
        },
        "outputId": "041e761a-eb09-46db-fe07-0ceeedd3293b"
      },
      "execution_count": null,
      "outputs": [
        {
          "output_type": "stream",
          "name": "stdout",
          "text": [
            "Epoch: 0 | Loss: 0.6860889196395874 | Test Loss: 0.7637526988983154\n",
            "Epoch: 1 | Loss: 0.6745679974555969 | Test Loss: 0.7502816915512085\n",
            "Epoch: 2 | Loss: 0.6630470156669617 | Test Loss: 0.7368106245994568\n",
            "Epoch: 3 | Loss: 0.6515260338783264 | Test Loss: 0.7233396768569946\n",
            "Epoch: 4 | Loss: 0.6400049924850464 | Test Loss: 0.7098686695098877\n",
            "Epoch: 5 | Loss: 0.6284840703010559 | Test Loss: 0.6963977217674255\n",
            "Epoch: 6 | Loss: 0.6169630289077759 | Test Loss: 0.6829267144203186\n",
            "Epoch: 7 | Loss: 0.6054420471191406 | Test Loss: 0.6694557666778564\n",
            "Epoch: 8 | Loss: 0.5939210653305054 | Test Loss: 0.6559847593307495\n",
            "Epoch: 9 | Loss: 0.5824000239372253 | Test Loss: 0.6425138115882874\n",
            "Epoch: 10 | Loss: 0.5708791017532349 | Test Loss: 0.6290428042411804\n",
            "Epoch: 11 | Loss: 0.5593580603599548 | Test Loss: 0.6155718564987183\n",
            "Epoch: 12 | Loss: 0.5478371381759644 | Test Loss: 0.6021007895469666\n",
            "Epoch: 13 | Loss: 0.5363161563873291 | Test Loss: 0.5886298418045044\n",
            "Epoch: 14 | Loss: 0.5247951149940491 | Test Loss: 0.5751588940620422\n",
            "Epoch: 15 | Loss: 0.5132741332054138 | Test Loss: 0.5616878271102905\n",
            "Epoch: 16 | Loss: 0.5017532110214233 | Test Loss: 0.5482169389724731\n",
            "Epoch: 17 | Loss: 0.4902321696281433 | Test Loss: 0.5347458720207214\n",
            "Epoch: 18 | Loss: 0.47871121764183044 | Test Loss: 0.5212749242782593\n",
            "Epoch: 19 | Loss: 0.4671902060508728 | Test Loss: 0.5078039169311523\n",
            "Epoch: 20 | Loss: 0.45566922426223755 | Test Loss: 0.4943329691886902\n",
            "Epoch: 21 | Loss: 0.4441482126712799 | Test Loss: 0.48086196184158325\n",
            "Epoch: 22 | Loss: 0.43262726068496704 | Test Loss: 0.4673910140991211\n",
            "Epoch: 23 | Loss: 0.4211062490940094 | Test Loss: 0.45392003655433655\n",
            "Epoch: 24 | Loss: 0.40958523750305176 | Test Loss: 0.4404489994049072\n",
            "Epoch: 25 | Loss: 0.3980643153190613 | Test Loss: 0.42697805166244507\n",
            "Epoch: 26 | Loss: 0.38654330372810364 | Test Loss: 0.41350704431533813\n",
            "Epoch: 27 | Loss: 0.375022292137146 | Test Loss: 0.4000360369682312\n",
            "Epoch: 28 | Loss: 0.36350134015083313 | Test Loss: 0.38656511902809143\n",
            "Epoch: 29 | Loss: 0.3519803285598755 | Test Loss: 0.3730941116809845\n",
            "Epoch: 30 | Loss: 0.34045934677124023 | Test Loss: 0.35962313413619995\n",
            "Epoch: 31 | Loss: 0.328938364982605 | Test Loss: 0.346152126789093\n",
            "Epoch: 32 | Loss: 0.31741735339164734 | Test Loss: 0.33268117904663086\n",
            "Epoch: 33 | Loss: 0.3058963716030121 | Test Loss: 0.3192101716995239\n",
            "Epoch: 34 | Loss: 0.2943754196166992 | Test Loss: 0.3057391941547394\n",
            "Epoch: 35 | Loss: 0.2828544080257416 | Test Loss: 0.29226821660995483\n",
            "Epoch: 36 | Loss: 0.2713334262371063 | Test Loss: 0.2787972390651703\n",
            "Epoch: 37 | Loss: 0.25981244444847107 | Test Loss: 0.26532623171806335\n",
            "Epoch: 38 | Loss: 0.24829146265983582 | Test Loss: 0.2518552839756012\n",
            "Epoch: 39 | Loss: 0.23677048087120056 | Test Loss: 0.23838429152965546\n",
            "Epoch: 40 | Loss: 0.2252494841814041 | Test Loss: 0.2249133139848709\n",
            "Epoch: 41 | Loss: 0.21372847259044647 | Test Loss: 0.21144230663776398\n",
            "Epoch: 42 | Loss: 0.20220749080181122 | Test Loss: 0.19797134399414062\n",
            "Epoch: 43 | Loss: 0.19068653881549835 | Test Loss: 0.1845003366470337\n",
            "Epoch: 44 | Loss: 0.1791655272245407 | Test Loss: 0.17102937400341034\n",
            "Epoch: 45 | Loss: 0.16764454543590546 | Test Loss: 0.157558411359787\n",
            "Epoch: 46 | Loss: 0.156123548746109 | Test Loss: 0.14408738911151886\n",
            "Epoch: 47 | Loss: 0.14460256695747375 | Test Loss: 0.13061639666557312\n",
            "Epoch: 48 | Loss: 0.1330815702676773 | Test Loss: 0.11714544147253036\n",
            "Epoch: 49 | Loss: 0.12156059592962265 | Test Loss: 0.10367444902658463\n",
            "Epoch: 50 | Loss: 0.1100396141409874 | Test Loss: 0.09020347893238068\n",
            "Epoch: 51 | Loss: 0.09851861745119095 | Test Loss: 0.07673247158527374\n",
            "Epoch: 52 | Loss: 0.0869976356625557 | Test Loss: 0.06326152384281158\n",
            "Epoch: 53 | Loss: 0.07547664642333984 | Test Loss: 0.04979051277041435\n",
            "Epoch: 54 | Loss: 0.06395565718412399 | Test Loss: 0.0363195538520813\n",
            "Epoch: 55 | Loss: 0.05243467539548874 | Test Loss: 0.02284855768084526\n",
            "Epoch: 56 | Loss: 0.04091368243098259 | Test Loss: 0.009377574548125267\n",
            "Epoch: 57 | Loss: 0.029392695054411888 | Test Loss: 0.0040934025309979916\n",
            "Epoch: 58 | Loss: 0.017871711403131485 | Test Loss: 0.017564397305250168\n",
            "Epoch: 59 | Loss: 0.010616960003972054 | Test Loss: 0.020717304199934006\n",
            "Epoch: 60 | Loss: 0.009724985808134079 | Test Loss: 0.020998019725084305\n",
            "Epoch: 61 | Loss: 0.009325616993010044 | Test Loss: 0.0205828957259655\n",
            "Epoch: 62 | Loss: 0.00897279754281044 | Test Loss: 0.02016776241362095\n",
            "Epoch: 63 | Loss: 0.008620461449027061 | Test Loss: 0.01906575635075569\n",
            "Epoch: 64 | Loss: 0.008283796720206738 | Test Loss: 0.018650632351636887\n",
            "Epoch: 65 | Loss: 0.007935261353850365 | Test Loss: 0.01754862628877163\n",
            "Epoch: 66 | Loss: 0.007594785653054714 | Test Loss: 0.017133492976427078\n",
            "Epoch: 67 | Loss: 0.007250060793012381 | Test Loss: 0.01603149250149727\n",
            "Epoch: 68 | Loss: 0.00690577644854784 | Test Loss: 0.015616369433701038\n",
            "Epoch: 69 | Loss: 0.0065648676827549934 | Test Loss: 0.014514368958771229\n",
            "Epoch: 70 | Loss: 0.006216754671186209 | Test Loss: 0.014099234715104103\n",
            "Epoch: 71 | Loss: 0.005879654549062252 | Test Loss: 0.012997227720916271\n",
            "Epoch: 72 | Loss: 0.0055306581780314445 | Test Loss: 0.011895209550857544\n",
            "Epoch: 73 | Loss: 0.0051915524527430534 | Test Loss: 0.011480098590254784\n",
            "Epoch: 74 | Loss: 0.0048454562202095985 | Test Loss: 0.010378086939454079\n",
            "Epoch: 75 | Loss: 0.004502544645220041 | Test Loss: 0.009962963871657848\n",
            "Epoch: 76 | Loss: 0.004160256590694189 | Test Loss: 0.008860963396728039\n",
            "Epoch: 77 | Loss: 0.00381353497505188 | Test Loss: 0.008445841260254383\n",
            "Epoch: 78 | Loss: 0.003475042525678873 | Test Loss: 0.0073438226245343685\n",
            "Epoch: 79 | Loss: 0.003126060124486685 | Test Loss: 0.006241828203201294\n",
            "Epoch: 80 | Loss: 0.002788322512060404 | Test Loss: 0.005826681852340698\n",
            "Epoch: 81 | Loss: 0.0024408488534390926 | Test Loss: 0.004724687431007624\n",
            "Epoch: 82 | Loss: 0.002099317265674472 | Test Loss: 0.004309558775275946\n",
            "Epoch: 83 | Loss: 0.0017560191918164492 | Test Loss: 0.0025295913219451904\n",
            "Epoch: 84 | Loss: 0.001492114388383925 | Test Loss: 0.00495107751339674\n",
            "Epoch: 85 | Loss: 0.0019509084522724152 | Test Loss: 0.005930870771408081\n",
            "Epoch: 86 | Loss: 0.007095950655639172 | Test Loss: 0.00754010071977973\n",
            "Epoch: 87 | Loss: 0.004425036255270243 | Test Loss: 0.005930870771408081\n",
            "Epoch: 88 | Loss: 0.007095950655639172 | Test Loss: 0.00754010071977973\n",
            "Epoch: 89 | Loss: 0.004425036255270243 | Test Loss: 0.005930870771408081\n",
            "Epoch: 90 | Loss: 0.007095950655639172 | Test Loss: 0.00754010071977973\n",
            "Epoch: 91 | Loss: 0.004425036255270243 | Test Loss: 0.005930870771408081\n",
            "Epoch: 92 | Loss: 0.007095950655639172 | Test Loss: 0.00754010071977973\n",
            "Epoch: 93 | Loss: 0.004425036255270243 | Test Loss: 0.005930870771408081\n",
            "Epoch: 94 | Loss: 0.007095950655639172 | Test Loss: 0.00754010071977973\n",
            "Epoch: 95 | Loss: 0.004425036255270243 | Test Loss: 0.005930870771408081\n",
            "Epoch: 96 | Loss: 0.007095950655639172 | Test Loss: 0.00754010071977973\n",
            "Epoch: 97 | Loss: 0.004425036255270243 | Test Loss: 0.005930870771408081\n",
            "Epoch: 98 | Loss: 0.007095950655639172 | Test Loss: 0.00754010071977973\n",
            "Epoch: 99 | Loss: 0.004425036255270243 | Test Loss: 0.005930870771408081\n"
          ]
        }
      ]
    },
    {
      "cell_type": "code",
      "source": [
        "model.state_dict()"
      ],
      "metadata": {
        "colab": {
          "base_uri": "https://localhost:8080/"
        },
        "id": "pHurIAIsTKp7",
        "outputId": "2486d3cc-d8a0-4711-edb9-19c95060c92d"
      },
      "execution_count": null,
      "outputs": [
        {
          "output_type": "execute_result",
          "data": {
            "text/plain": [
              "OrderedDict([('weights', tensor([0.6977])), ('bias', tensor([0.3080]))])"
            ]
          },
          "metadata": {},
          "execution_count": 46
        }
      ]
    },
    {
      "cell_type": "code",
      "source": [
        "import numpy as np\n",
        "\n",
        "# Plot the loss curves\n",
        "plt.plot(epoch_count, np.array(torch.tensor(loss_values).numpy()), label=\"Train loss\")\n",
        "plt.plot(epoch_count, np.array(torch.tensor(test_loss_values).numpy()), label=\"Test loss\")\n",
        "plt.title(\"Training and test loss curves\")\n",
        "plt.ylabel(\"Loss\")\n",
        "plt.xlabel(\"Epochs\")\n",
        "plt.legend()"
      ],
      "metadata": {
        "colab": {
          "base_uri": "https://localhost:8080/",
          "height": 489
        },
        "id": "iNEvH_2SJ5B0",
        "outputId": "8f12198a-471b-4901-b562-5517964b72e7"
      },
      "execution_count": null,
      "outputs": [
        {
          "output_type": "execute_result",
          "data": {
            "text/plain": [
              "<matplotlib.legend.Legend at 0x78dc8bc17310>"
            ]
          },
          "metadata": {},
          "execution_count": 47
        },
        {
          "output_type": "display_data",
          "data": {
            "text/plain": [
              "<Figure size 640x480 with 1 Axes>"
            ],
            "image/png": "[encoded data removed]"
          },
          "metadata": {}
        }
      ]
    },
    {
      "cell_type": "code",
      "source": [
        "with torch.inference_mode():\n",
        "  y_preds_new = model(X_test)"
      ],
      "metadata": {
        "id": "Vc3MGsRl0OQl"
      },
      "execution_count": null,
      "outputs": []
    },
    {
      "cell_type": "code",
      "source": [
        "plot_predictions(predictions=y_preds)"
      ],
      "metadata": {
        "colab": {
          "base_uri": "https://localhost:8080/",
          "height": 599
        },
        "id": "gy0bsqubcPlO",
        "outputId": "f5b2a8cd-8116-49fe-a178-5ebdf6108001"
      },
      "execution_count": null,
      "outputs": [
        {
          "output_type": "display_data",
          "data": {
            "text/plain": [
              "<Figure size 1000x700 with 1 Axes>"
            ],
            "image/png": "[encoded data removed]"
          },
          "metadata": {}
        }
      ]
    },
    {
      "cell_type": "code",
      "source": [
        "plot_predictions(predictions=y_preds_new)"
      ],
      "metadata": {
        "colab": {
          "base_uri": "https://localhost:8080/",
          "height": 599
        },
        "id": "H6uWU_tx0XLV",
        "outputId": "68fa9ed8-f7d3-42e1-a2a1-73cd63c502b1"
      },
      "execution_count": null,
      "outputs": [
        {
          "output_type": "display_data",
          "data": {
            "text/plain": [
              "<Figure size 1000x700 with 1 Axes>"
            ],
            "image/png": "[encoded data removed]"
          },
          "metadata": {}
        }
      ]
    },
    {
      "cell_type": "markdown",
      "source": [
        "**Saving a model in PyTorch**\n",
        "\n",
        "There are three main methods for saving and loading models:\n",
        "1. `torch.save()` -> saves a model's state dictionary or own model\n",
        "2. `torch.load()` -> loads the model or the state dictionary file\n",
        "3. `torch.nn.Module.load_state_dict()` -> this allows to load a model's saved dictionary\n",
        "\n",
        "Doc: https://pytorch.org/tutorials/beginner/saving_loading_models.html"
      ],
      "metadata": {
        "id": "vVdRKTndVlFv"
      }
    },
    {
      "cell_type": "markdown",
      "source": [
        "**Saving the state dictionary**"
      ],
      "metadata": {
        "id": "-gLFMxa4g3SU"
      }
    },
    {
      "cell_type": "code",
      "source": [
        "# Saves the model's state_dict()\n",
        "torch.save(model.state_dict(), \"model_state_dict.pt\")"
      ],
      "metadata": {
        "id": "7qC2hTXGHgn4"
      },
      "execution_count": null,
      "outputs": []
    },
    {
      "cell_type": "code",
      "source": [
        "# Loads the model's state_dict()\n",
        "saved_model_1 = LinearRegressionModel()\n",
        "saved_model_1.load_state_dict(torch.load(\"model_state_dict.pt\", weights_only=True))\n",
        "saved_model_1.eval()"
      ],
      "metadata": {
        "colab": {
          "base_uri": "https://localhost:8080/"
        },
        "id": "lrdU_OoPd4NR",
        "outputId": "049da0c8-ef2c-4548-b86d-7aa109d5eab3"
      },
      "execution_count": null,
      "outputs": [
        {
          "output_type": "execute_result",
          "data": {
            "text/plain": [
              "LinearRegressionModel()"
            ]
          },
          "metadata": {},
          "execution_count": 52
        }
      ]
    },
    {
      "cell_type": "markdown",
      "source": [
        "**Saving the entire model**"
      ],
      "metadata": {
        "id": "IQlDvNjehnFM"
      }
    },
    {
      "cell_type": "code",
      "source": [
        "# Saves the model\n",
        "torch.save(model, \"model.pt\")"
      ],
      "metadata": {
        "id": "YUcS0quzc8td"
      },
      "execution_count": null,
      "outputs": []
    },
    {
      "cell_type": "code",
      "source": [
        "# Loads a saved model\n",
        "saved_model_2 = torch.load(\"model.pt\", weights_only=False)\n",
        "saved_model_2.eval()"
      ],
      "metadata": {
        "colab": {
          "base_uri": "https://localhost:8080/"
        },
        "id": "Wn4kihIDdZe9",
        "outputId": "8c2df018-1816-433c-bb06-c8050acbbc2a"
      },
      "execution_count": null,
      "outputs": [
        {
          "output_type": "execute_result",
          "data": {
            "text/plain": [
              "LinearRegressionModel()"
            ]
          },
          "metadata": {},
          "execution_count": 54
        }
      ]
    },
    {
      "cell_type": "markdown",
      "source": [
        "**Saving the entire model using script**\n",
        "\n",
        "When saving the model using `torch.save()` it may cause some issues. To avoid that we can use:"
      ],
      "metadata": {
        "id": "n_lm-4cvhqdP"
      }
    },
    {
      "cell_type": "code",
      "source": [
        "# Saves the model\n",
        "model_scripted = torch.jit.script(model) # exporting the model\n",
        "model_scripted.save(\"model_scripted.pt\") # saving it"
      ],
      "metadata": {
        "id": "1_XDZ--chflF"
      },
      "execution_count": null,
      "outputs": []
    },
    {
      "cell_type": "code",
      "source": [
        "# Loads the model\n",
        "model_saved_3 = torch.jit.load(\"model_scripted.pt\")\n",
        "model_saved_3.eval()"
      ],
      "metadata": {
        "colab": {
          "base_uri": "https://localhost:8080/"
        },
        "id": "K4Qte6xDij1V",
        "outputId": "7eeeddde-c7da-4159-a6a1-8db7dbbdb5d9"
      },
      "execution_count": null,
      "outputs": [
        {
          "output_type": "execute_result",
          "data": {
            "text/plain": [
              "RecursiveScriptModule(original_name=LinearRegressionModel)"
            ]
          },
          "metadata": {},
          "execution_count": 56
        }
      ]
    },
    {
      "cell_type": "markdown",
      "source": [
        "### **Putting everything together**\n"
      ],
      "metadata": {
        "id": "bV7wDfvx5XbN"
      }
    },
    {
      "cell_type": "code",
      "source": [
        "import torch\n",
        "import torch.nn as nn\n",
        "\n",
        "# Creating some data\n",
        "weight = 0.5\n",
        "bias = 0.1\n",
        "\n",
        "X = torch.arange(start=0, end=10, step=0.2).unsqueeze(dim=1)\n",
        "y = weight*X + bias\n",
        "\n",
        "train_split = int(0.8 * len(X))\n",
        "X_train, y_train = X[:train_split], y[:train_split]\n",
        "X_test, y_test = X[train_split:], y[train_split:]\n",
        "\n",
        "# Creating the model\n",
        "class LinearRegressionModelV2(nn.Module):\n",
        "  def __init__(self):\n",
        "    super().__init__()\n",
        "    self.dense_layer_1 = nn.Linear(in_features=1, out_features=1)\n",
        "\n",
        "  def forward(self, x = torch.Tensor) -> torch.Tensor:\n",
        "    x = self.dense_layer_1(x)\n",
        "    return x\n",
        "\n",
        "# Setting the seed\n",
        "torch.manual_seed(42)\n",
        "\n",
        "model = LinearRegressionModelV2()\n",
        "model, model.state_dict()\n",
        "\n",
        "# Moving the model and data to the GPU\n",
        "if (torch.cuda.is_available()):\n",
        "  device = torch.device(\"cuda\")\n",
        "else:\n",
        "  device = torch.device(\"cpu\")\n",
        "\n",
        "model.to(device)\n",
        "\n",
        "X_train = X_train.to(device)\n",
        "y_train = y_train.to(device)\n",
        "X_test = X_test.to(device)\n",
        "y_test = y_test.to(device)\n",
        "\n",
        "# Creating and setting the loss function and the optimizer\n",
        "loss_function = nn.L1Loss()\n",
        "\n",
        "optimizer = torch.optim.SGD(params=model.parameters(), lr=0.01)\n",
        "\n",
        "# Creating the training and testing loop\n",
        "epochs = 150\n",
        "\n",
        "epochs_list = []\n",
        "loss_list = []\n",
        "test_loss_list = []\n",
        "\n",
        "for epoch in range(epochs):\n",
        "  model.train()\n",
        "\n",
        "  y_pred = model(X_train)\n",
        "\n",
        "  loss = loss_function(y_pred, y_train)\n",
        "\n",
        "  optimizer.zero_grad()\n",
        "  loss.backward()\n",
        "  optimizer.step()\n",
        "\n",
        "  # Testing\n",
        "  model.eval()\n",
        "  with torch.inference_mode():\n",
        "    test_pred = model(X_test)\n",
        "\n",
        "    test_loss = loss_function(test_pred, y_test)\n",
        "\n",
        "  if (epoch % 10 == 0):\n",
        "    epochs_list.append(epoch)\n",
        "    loss_list.append(loss)\n",
        "    test_loss_list.append(test_loss)\n",
        "    print(f\"Epoch: {epoch} | Loss: {loss} | Test Loss: {test_loss}\")\n",
        "\n",
        "model.state_dict()"
      ],
      "metadata": {
        "colab": {
          "base_uri": "https://localhost:8080/"
        },
        "id": "YoO2KRSO6IpU",
        "outputId": "75c9b930-4ce7-4d55-a7f4-9f83ede3f9d2"
      },
      "execution_count": 40,
      "outputs": [
        {
          "output_type": "stream",
          "name": "stdout",
          "text": [
            "Epoch: 0 | Loss: 1.7617082595825195 | Test Loss: 2.7273013591766357\n",
            "Epoch: 10 | Loss: 0.26677969098091125 | Test Loss: 0.3858579099178314\n",
            "Epoch: 20 | Loss: 0.2491065263748169 | Test Loss: 0.34447869658470154\n",
            "Epoch: 30 | Loss: 0.23193858563899994 | Test Loss: 0.328519344329834\n",
            "Epoch: 40 | Loss: 0.21477055549621582 | Test Loss: 0.3125600516796112\n",
            "Epoch: 50 | Loss: 0.19746653735637665 | Test Loss: 0.2711807191371918\n",
            "Epoch: 60 | Loss: 0.1802985519170761 | Test Loss: 0.2552213966846466\n",
            "Epoch: 70 | Loss: 0.16313053667545319 | Test Loss: 0.23926205933094025\n",
            "Epoch: 80 | Loss: 0.145826518535614 | Test Loss: 0.19788289070129395\n",
            "Epoch: 90 | Loss: 0.12865851819515228 | Test Loss: 0.18192355334758759\n",
            "Epoch: 100 | Loss: 0.11157584190368652 | Test Loss: 0.14232411980628967\n",
            "Epoch: 110 | Loss: 0.09422246366739273 | Test Loss: 0.12725472450256348\n",
            "Epoch: 120 | Loss: 0.07712282240390778 | Test Loss: 0.08854508399963379\n",
            "Epoch: 130 | Loss: 0.06177443265914917 | Test Loss: 0.10329518467187881\n",
            "Epoch: 140 | Loss: 0.04809341952204704 | Test Loss: 0.08328523486852646\n"
          ]
        },
        {
          "output_type": "execute_result",
          "data": {
            "text/plain": [
              "OrderedDict([('dense_layer_1.weight', tensor([[0.4953]], device='cuda:0')),\n",
              "             ('dense_layer_1.bias', tensor([0.1885], device='cuda:0'))])"
            ]
          },
          "metadata": {},
          "execution_count": 40
        }
      ]
    },
    {
      "cell_type": "code",
      "source": [
        "import numpy as np\n",
        "import matplotlib.pyplot as plt\n",
        "\n",
        "# Plot the loss curves\n",
        "plt.plot(epochs_list, np.array(torch.tensor(loss_list).numpy()), label=\"Train loss\")\n",
        "plt.plot(epochs_list, np.array(torch.tensor(test_loss_list).numpy()), label=\"Test loss\")\n",
        "plt.title(\"Training and test loss curves\")\n",
        "plt.ylabel(\"Loss\")\n",
        "plt.xlabel(\"Epochs\")\n",
        "plt.legend()"
      ],
      "metadata": {
        "colab": {
          "base_uri": "https://localhost:8080/",
          "height": 489
        },
        "id": "4zTielIuJwjz",
        "outputId": "93613b8c-013b-42af-81d6-f3489a87db9c"
      },
      "execution_count": 41,
      "outputs": [
        {
          "output_type": "execute_result",
          "data": {
            "text/plain": [
              "<matplotlib.legend.Legend at 0x7ea081d4dbd0>"
            ]
          },
          "metadata": {},
          "execution_count": 41
        },
        {
          "output_type": "display_data",
          "data": {
            "text/plain": [
              "<Figure size 640x480 with 1 Axes>"
            ],
            "image/png": "[encoded data removed]"
          },
          "metadata": {}
        }
      ]
    },
    {
      "cell_type": "code",
      "source": [
        "model.eval()\n",
        "with torch.inference_mode():\n",
        "  y_predictions = model(X_test)\n",
        "y_predictions"
      ],
      "metadata": {
        "colab": {
          "base_uri": "https://localhost:8080/"
        },
        "id": "4-08oVe6eJsf",
        "outputId": "32f0a5d7-9391-4e02-ea72-122a78896b96"
      },
      "execution_count": 56,
      "outputs": [
        {
          "output_type": "execute_result",
          "data": {
            "text/plain": [
              "tensor([[4.1512],\n",
              "        [4.2503],\n",
              "        [4.3493],\n",
              "        [4.4484],\n",
              "        [4.5475],\n",
              "        [4.6465],\n",
              "        [4.7456],\n",
              "        [4.8447],\n",
              "        [4.9438],\n",
              "        [5.0428]], device='cuda:0')"
            ]
          },
          "metadata": {},
          "execution_count": 56
        }
      ]
    },
    {
      "cell_type": "code",
      "source": [
        "plot_predictions(train_data=X_train.cpu(), train_labels=y_train.cpu(), test_data=X_test.cpu(), test_labels=y_test.cpu(), predictions=y_predictions.cpu())"
      ],
      "metadata": {
        "colab": {
          "base_uri": "https://localhost:8080/",
          "height": 599
        },
        "id": "kuOPAAJrcISX",
        "outputId": "2ae7a9cd-4713-4dae-d693-dee7ba583da2"
      },
      "execution_count": 58,
      "outputs": [
        {
          "output_type": "display_data",
          "data": {
            "text/plain": [
              "<Figure size 1000x700 with 1 Axes>"
            ],
            "image/png": "[encoded data removed]"
          },
          "metadata": {}
        }
      ]
    }
  ]
}